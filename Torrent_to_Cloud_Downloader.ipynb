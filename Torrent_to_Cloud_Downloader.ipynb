{
  "nbformat": 4,
  "nbformat_minor": 0,
  "metadata": {
    "colab": {
      "provenance": [],
      "collapsed_sections": [],
      "include_colab_link": true
    },
    "kernelspec": {
      "name": "python3",
      "display_name": "Python 3"
    },
    "language_info": {
      "name": "python"
    }
  },
  "cells": [
    {
      "cell_type": "markdown",
      "metadata": {
        "id": "view-in-github",
        "colab_type": "text"
      },
      "source": [
        "<a href=\"https://colab.research.google.com/github/Aman-Khan/Torrent-to-cloud-downloader/blob/main/Torrent_to_Cloud_Downloader.ipynb\" target=\"_parent\"><img src=\"https://colab.research.google.com/assets/colab-badge.svg\" alt=\"Open In Colab\"/></a>"
      ]
    },
    {
      "cell_type": "code",
      "source": [
        "# @markdown <br><center><img src=\"https://www.seedr.cc/images/logo_512px.png\" height=\"250\" width=\"250\" border overflow=\"hidden\"  alt=\"Gdrive-logo' \"/></center>\n",
        "#b # @markdown <center><h1><b>Login Seedr</b></h1></center><br>\n",
        "# @markdown <center><h1><b>Install Modules</b></h1></center><br>\n",
        "\n",
        "!pip install seedr\n",
        "import getpass\n",
        "from seedr import SeedrAPI\n",
        "\n",
        "# USERNAME = \"00012fac@gmail.com\"  # @param {type:\"string\"}\n",
        "# PASSWORD = \"00000fac\"  # @param {type:\"string\"}\n",
        "USERNAME = \"ak722442@gmail.com\" #Use Your Account for More Space\n",
        "PASSWORD = \"qwerty@123\" \n",
        "seedr = SeedrAPI(USERNAME, PASSWORD)"
      ],
      "metadata": {
        "colab": {
          "base_uri": "https://localhost:8080/"
        },
        "id": "wH7folcAEBQ_",
        "outputId": "5a69fd4a-f4ce-45b3-db00-542855c49e18"
      },
      "execution_count": 20,
      "outputs": [
        {
          "output_type": "stream",
          "name": "stdout",
          "text": [
            "Looking in indexes: https://pypi.org/simple, https://us-python.pkg.dev/colab-wheels/public/simple/\n",
            "Requirement already satisfied: seedr in /usr/local/lib/python3.7/dist-packages (1.2.1)\n",
            "Requirement already satisfied: requests in /usr/local/lib/python3.7/dist-packages (from seedr) (2.23.0)\n",
            "Requirement already satisfied: urllib3!=1.25.0,!=1.25.1,<1.26,>=1.21.1 in /usr/local/lib/python3.7/dist-packages (from requests->seedr) (1.24.3)\n",
            "Requirement already satisfied: certifi>=2017.4.17 in /usr/local/lib/python3.7/dist-packages (from requests->seedr) (2022.9.24)\n",
            "Requirement already satisfied: chardet<4,>=3.0.2 in /usr/local/lib/python3.7/dist-packages (from requests->seedr) (3.0.4)\n",
            "Requirement already satisfied: idna<3,>=2.5 in /usr/local/lib/python3.7/dist-packages (from requests->seedr) (2.10)\n"
          ]
        }
      ]
    },
    {
      "cell_type": "markdown",
      "source": [
        "##Add Magnet Link"
      ],
      "metadata": {
        "id": "mMDgIPXLErqg"
      }
    },
    {
      "cell_type": "code",
      "source": [
        "#@markdown <br><center><img src=\"https://drive.google.com/uc?id=1sq7tFtVcVVZfzrNDr0saTByqmn3BV16H\" height=\"200\" width=\"200\" border overflow=\"hidden\"  alt=\"Gdrive-logo' \"/></center>\n",
        "#@markdown <center><h1><b>Add Magnet Link</b></h1></center><br>\n",
        "\n",
        "Enter_Magnet_Link = \"Please Enter Magnet link of Torrent file\"  # @param {type:\"string\"}\n",
        "\n",
        "# Magnet Link For Test ↓↓↓↓↓↓↓↓ \n",
        "# magnet:?xt=urn:btih:CA01E0B386B116A503A5830EF3BB8FE5F49A8FEC&dn=Power.Book.III.Raising.Kanan.S02E10.WEB.x264-PHOENiX&tr=udp%3A%2F%2Fopen.stealth.si%3A80%2Fannounce&tr=udp%3A%2F%2Ftracker.tiny-vps.com%3A6969%2Fannounce&tr=udp%3A%2F%2Ftracker.opentrackr.org%3A1337%2Fannounce&tr=udp%3A%2F%2Ftracker.torrent.eu.org%3A451%2Fannounce&tr=udp%3A%2F%2Fexplodie.org%3A6969%2Fannounce&tr=udp%3A%2F%2Ftracker.cyberia.is%3A6969%2Fannounce&tr=udp%3A%2F%2Fipv4.tracker.harry.lu%3A80%2Fannounce&tr=udp%3A%2F%2Fp4p.arenabg.com%3A1337%2Fannounce&tr=udp%3A%2F%2Ftracker.birkenwald.de%3A6969%2Fannounce&tr=udp%3A%2F%2Ftracker.moeking.me%3A6969%2Fannounce&tr=udp%3A%2F%2Fopentor.org%3A2710%2Fannounce&tr=udp%3A%2F%2Ftracker.dler.org%3A6969%2Fannounce&tr=udp%3A%2F%2F9.rarbg.me%3A2970%2Fannounce&tr=https%3A%2F%2Ftracker.foreverpirates.co%3A443%2Fannounce&tr=udp%3A%2F%2Ftracker.opentrackr.org%3A1337%2Fannounce&tr=http%3A%2F%2Ftracker.openbittorrent.com%3A80%2Fannounce&tr=udp%3A%2F%2Fopentracker.i2p.rocks%3A6969%2Fannounce&tr=udp%3A%2F%2Ftracker.internetwarriors.net%3A1337%2Fannounce&tr=udp%3A%2F%2Ftracker.leechers-paradise.org%3A6969%2Fannounce&tr=udp%3A%2F%2Fcoppersurfer.tk%3A6969%2Fannounce&tr=udp%3A%2F%2Ftracker.zer0day.to%3A1337%2Fannounce\n",
        "\n",
        "if Enter_Magnet_Link != \"\":\n",
        "  tor = seedr.add_torrent(Enter_Magnet_Link)\n",
        "else:\n",
        "  print(\"**Enter Magnet Link**\")\n",
        "\n",
        "#@markdown <br>&nbsp;&nbsp;&nbsp;&nbsp;&nbsp;&nbsp;<small>**Note : Add Magnet Link (Format) :magnet:?xt=urn:btih: <br> &nbsp;&nbsp;&nbsp;&nbsp;&nbsp;&nbsp;&nbsp;&nbsp;&nbsp;&nbsp;&nbsp;&nbsp;&nbsp;&nbsp;&nbsp;&nbsp;&nbsp;&nbsp;&nbsp;&nbsp;&nbsp;&nbsp; Storage < 4.5 GB</small>"
      ],
      "metadata": {
        "id": "TyW5Rto4EwvF"
      },
      "execution_count": 10,
      "outputs": []
    },
    {
      "cell_type": "code",
      "source": [
        "#@markdown <br><center><img src=\"https://cdn-icons-png.flaticon.com/512/235/235251.png\" height=\"200\" width=\"200\" border overflow=\"hidden\"  alt=\"folder-logo' \"/></center>\n",
        "#@markdown ##<center><b>Show Avaliable Folders & Files</b></center> \n",
        "\n",
        "data = seedr.get_drive()\n",
        "file_data = {}\n",
        "def show_data(data,bar=0):\n",
        "  bar -= 1\n",
        "  if data['folders'] != []:\n",
        "    for i in range(len(data['folders'])):\n",
        "      print(f\"{bar*' '}Folder ID {data['folders'][i].get('id')} -- {data['folders'][i].get('name')}\" )\n",
        "      show_data(seedr.get_folder((data['folders'][i].get('id'))),bar=3)\n",
        "    else :\n",
        "      bar -= 1\n",
        "  for i in range(len(data['files'])):\n",
        "    print(f\"{bar*'  '}File   ID {data['files'][i].get('folder_file_id')} -- {data['files'][i].get('name')} \") # -- ({seedr.get_file(data['files'][i].get('folder_file_id')).get('url')}) (get Download URL)\n",
        "    file_data[data['files'][i].get('folder_file_id')] = [data['files'][i].get('name'),seedr.get_file(data['files'][i].get('folder_file_id')).get('url')]\n",
        "show_data(data)\n",
        "if(not file_data):\n",
        "  print(\"empty\".center(20,'+'))\n"
      ],
      "metadata": {
        "id": "9aE5cRXH7vJ2",
        "cellView": "form",
        "colab": {
          "base_uri": "https://localhost:8080/"
        },
        "outputId": "6e74a084-5c56-4695-af45-60c0d0b2ae82"
      },
      "execution_count": 21,
      "outputs": [
        {
          "output_type": "stream",
          "name": "stdout",
          "text": [
            "Folder ID 238743259 -- Power.Book.III.Raising.Kanan.S02E10.WEB.x264-TORRENTGALAXY[TGx]\n",
            "    File   ID 1296435908 -- Power.Book.III.Raising.Kanan.S02E10.WEB.x264-TORRENTGALAXY.mkv \n",
            "    File   ID 1296435909 -- [TGx]Downloaded from torrentgalaxy.to .txt \n",
            "    File   ID 1296435910 -- source.txt \n"
          ]
        }
      ]
    },
    {
      "cell_type": "code",
      "source": [
        "#@markdown <h2><b>Get Download URL</b></h2><br>\n",
        "#@markdown <h5>&nbsp;&nbsp;-- File URL</h5>\n",
        "File_Id = \"129643590\" # @param {type:\"string\"}\n",
        "def getUrl(File_Id):\n",
        "  if int(File_Id) in file_data:\n",
        "    print(f\"File Name : {file_data.get(int(File_Id))[0]} \\nDownload Url : {file_data.get(int(File_Id))[1]} \\n\")\n",
        "  else :\n",
        "    print(\"**Invalid File ID**\")\n",
        "if File_Id != \"\":\n",
        "  getUrl(File_Id)\n",
        "\n",
        "#@markdown <br><h5>&nbsp;&nbsp;-- All Files in Folder</h5>\n",
        "Folder_Id = \"\" # @param {type:\"string\"}\n",
        "\n",
        "def getAllUrl(Folder_Id):\n",
        "  for i in seedr.get_folder(int(Folder_Id)).get('files'):\n",
        "    getUrl(i.get('folder_file_id'))\n",
        "\n",
        "if Folder_Id != \"\":\n",
        "  getAllUrl(Folder_Id)"
      ],
      "metadata": {
        "cellView": "form",
        "id": "67jXzDH1JxQt",
        "colab": {
          "base_uri": "https://localhost:8080/"
        },
        "outputId": "41f8e917-a263-41d0-e79b-39dea256e23d"
      },
      "execution_count": 15,
      "outputs": [
        {
          "output_type": "stream",
          "name": "stdout",
          "text": [
            "**Invalid File ID**\n"
          ]
        }
      ]
    },
    {
      "cell_type": "code",
      "source": [
        "# @markdown <br><h1><b>&nbsp;&nbsp;Edit Directories</b></h1>\n",
        "#@markdown  <br> <h5>&nbsp;&nbsp;&nbsp; -- Remove Folder or File </h5><br>\n",
        "Enter_Id = '' #@param {type:\"string\"} \n",
        "# # seedr.delete_folder('Enter_Id')\n",
        "# seedr.delete_file('Enter_Id')\n",
        "\n",
        "\n",
        "#@markdown <br>&nbsp;&nbsp;&nbsp;&nbsp;&nbsp;&nbsp;<small>**Note : currently this option is not working</small>\n"
      ],
      "metadata": {
        "id": "TjU7iEDDJ7jd"
      },
      "execution_count": 23,
      "outputs": []
    },
    {
      "cell_type": "code",
      "source": [
        "#@markdown <br><center><img src=\"https://upload.wikimedia.org/wikipedia/commons/thumb/d/da/Google_Drive_logo.png/600px-Google_Drive_logo.png\" height=\"50\" alt=\"Gdrive-logo' \"/></center>\n",
        "#@markdown <center><h1><b>Connect to Google Account</b></h1></center><br>\n",
        "MODE = \"MOUNT\" #@param [\"MOUNT\", \"UNMOUNT\"]\n",
        "#Mount your Gdrive! \n",
        "from google.colab import drive\n",
        "drive.mount._DEBUG = False\n",
        "if MODE == \"MOUNT\":\n",
        "  drive.mount('/gdrive', force_remount=True)\n",
        "elif MODE == \"UNMOUNT\":\n",
        "  try:\n",
        "    drive.flush_and_unmount()\n",
        "  except ValueError:\n",
        "    pass\n",
        "  get_ipython().system_raw(\"rm -rf /root/.config/Google/DriveFS\")"
      ],
      "metadata": {
        "id": "cOXl7-KPDR9O",
        "cellView": "form"
      },
      "execution_count": null,
      "outputs": []
    },
    {
      "cell_type": "code",
      "source": [
        "# @markdown <br><h1><b>&nbsp;&nbsp;Transfer to Google Drive</b></h1>\n",
        "# @markdown <br><h3>&nbsp;&nbsp;&nbsp;-- Download File</h3><br>\n",
        "\n",
        "import requests\n",
        "import os\n",
        "\n",
        "File_Id = \"Enter ID\" # @param {type:\"string\"}\n",
        "Download_Path = \"/content/drive/MyDrive/TClouder\" # @param {type:\"string\"}\n",
        "\n",
        "def Download_File(File_Id,Download_Path):\n",
        "  if int(File_Id) in file_data:\n",
        "    if not os.path.exists(Download_Path):\n",
        "      print(Download_Path)\n",
        "      os.makedirs(Download_Path)\n",
        "    r = requests.get(file_data.get(int(File_Id))[1], stream = True)\n",
        "    path = Download_Path+'/'+file_data.get(int(File_Id))[0]\n",
        "    with open(path, \"wb\") as file:\n",
        "      for block in r.iter_content(chunk_size = 1024):\n",
        "        if block:\n",
        "          file.write(block)\n",
        "    print(file_data.get(int(File_Id))[0])\n",
        "  else:\n",
        "    print(\"**File Not Avalibale**\")\n",
        "  \n",
        "if File_Id:\n",
        "  Download_File(File_Id,Download_Path)    \n",
        "\n",
        "# @markdown <br><h3>&nbsp;&nbsp;&nbsp;-- Download Folder</h3><br>\n",
        "Folder_Id = \"Enter ID\" # @param {type:\"string\"}\n",
        "Download_Path = \"/content/drive/MyDrive/TClouder\" # @param {type:\"string\"}\n",
        "\n",
        "def Download_Folder(Folder_Id,Download_Path):\n",
        "  if seedr.get_folder(int(Folder_Id)) != []:\n",
        "    if not os.path.exists(Download_Path):\n",
        "      print(Download_Path)\n",
        "      os.makedirs(Download_Path)\n",
        "    for i in seedr.get_folder(int(Folder_Id)).get('folders'):\n",
        "      Download_Folder(i.get('id'),Download_Path)\n",
        "  else :\n",
        "    print(\"Invalid ID\")\n",
        "  if seedr.get_folder(int(Folder_Id)).get('files'):\n",
        "    Download_Path = Download_Path+'/'+seedr.get_folder(Folder_Id).get('fullname')\n",
        "    for i in seedr.get_folder(int(Folder_Id)).get('files'):\n",
        "        Download_File(i.get('folder_file_id'),Download_Path)\n",
        "  print(\"**Download Complete**\")\n",
        "\n",
        "if Folder_Id:\n",
        "  Download_Folder(Folder_Id,Download_Path)\n"
      ],
      "metadata": {
        "cellView": "form",
        "id": "qb0FiDqsW0Nw"
      },
      "execution_count": null,
      "outputs": []
    }
  ]
}